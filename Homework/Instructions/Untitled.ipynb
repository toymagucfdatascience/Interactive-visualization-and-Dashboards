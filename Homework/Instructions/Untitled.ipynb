{
 "cells": [
  {
   "cell_type": "code",
   "execution_count": null,
   "metadata": {},
   "outputs": [],
   "source": [
    "# Dependencies\n",
    "import pandas as pd\n",
    "import sqlalchemy\n",
    "from sqlalchemy.ext.automap import automap_base\n",
    "from sqlalchemy.orm import Session\n",
    "from sqlalchemy import create_engine, func, desc\n",
    "from flask import Flask, jsonify, render_template, request\n",
    "import csv"
   ]
  },
  {
   "cell_type": "code",
   "execution_count": null,
   "metadata": {},
   "outputs": [],
   "source": [
    "#################################################\n",
    "# Database Setup\n",
    "#################################################\n",
    "engine = create_engine(\"sqlite:///DataSets/belly_button_biodiversity.sqlite\")\n",
    "\n",
    "# reflect an existing database into a new model\n",
    "Base = automap_base()\n",
    "# reflect the tables\n",
    "Base.prepare(engine, reflect=True)\n",
    "\n",
    "# Save reference to the table\n",
    "Otu = Base.classes.otu\n",
    "Samples = Base.classes.samples\n",
    "Samples_metadata = Base.classes.samples_metadata\n",
    "\n",
    "# Create our session (link) from Python to the DB\n",
    "session = Session(engine)"
   ]
  },
  {
   "cell_type": "code",
   "execution_count": null,
   "metadata": {},
   "outputs": [],
   "source": [
    "# Create an empty list for sample ids\n",
    "sample_ids = []\n",
    "\n",
    "# Query results from matadata table\n",
    "results = session.query(Samples_metadata.SAMPLEID)\n",
    "\n",
    "# Loop through the query results and append the list with sample ids\n",
    "for result in results:\n",
    "    sample_ids.append(\"BB_\" + str(result[0]))\n",
    "    \n",
    "sample_ids"
   ]
  },
  {
   "cell_type": "code",
   "execution_count": null,
   "metadata": {},
   "outputs": [],
   "source": [
    "\n",
    "# Create an empty list for otu description\n",
    "otu_desc = []\n",
    "\n",
    "# Query results from otu table\n",
    "results = session.query(Otu.lowest_taxonomic_unit_found)\n",
    "\n",
    "# Loop through the query results and append the list with otu description\n",
    "for result in results:\n",
    "    otu_desc.append(result[0])\n",
    "\n",
    "otu_desc"
   ]
  },
  {
   "cell_type": "code",
   "execution_count": null,
   "metadata": {},
   "outputs": [],
   "source": [
    "def metadata(sample):\n",
    "    sample_id = sample.replace(\"BB_\",\"\")\n",
    "\n",
    "    metadata = session.query(Samples_Metadata.AGE, Samples_Metadata.BBTYPE, Samples_Metadata.ETHNICITY, Samples_Metadata.GENDER, Samples_Metadata.LOCATION, Samples_Metadata.SAMPLEID).filter_by(SAMPLEID=sample).first()\n",
    "    metadict = {\"AGE\":metadata[0],\"BBTYPE\":metadata[1],\"ETHNICITY\":metadata[2], \"GENDER\":metadata[3],\"LOCATION\":metadata[4],\"SAMPLEID\":metadata[5]}\n",
    "    return jsonify(metadict)"
   ]
  },
  {
   "cell_type": "code",
   "execution_count": null,
   "metadata": {},
   "outputs": [],
   "source": [
    "\n",
    "def wfreq(sample):\n",
    "    sample = sample.replace(\"BB_\",\"\")\n",
    "\n",
    "    # Query from metadata table\n",
    "    wfreq = session.query(Samples_Metadata.WFREQ).filter_by(SAMPLEID = sample).scalar()\n",
    "    \n",
    "    return str(wfreq)"
   ]
  },
  {
   "cell_type": "code",
   "execution_count": null,
   "metadata": {},
   "outputs": [],
   "source": [
    "\n",
    "def samples(sample):\n",
    "\n",
    "    # Create a sample query\n",
    "    sample_query = \"Samples.\" + sample\n",
    "\n",
    "    # Create an empty dictionary and list\n",
    "    sample_info = {}\n",
    "    otu_ids = []\n",
    "    sample_values = []\n",
    "\n",
    "    # Create a query \n",
    "    results = session.query(Samples.otu_id, sample_query).order_by(desc(sample_query))\n",
    "\n",
    "    # Loop through the results and append otu_ids and sample_values lists\n",
    "    for result in results:\n",
    "        otu_ids.append(result[0])\n",
    "        sample_values.append(result[1])\n",
    "\n",
    "    # Add these values to the dictionary\n",
    "    sample_info = [{\n",
    "        \"otu_ids\": otu_ids,\n",
    "        \"sample_values\": sample_values\n",
    "    }]\n",
    "\n",
    "    return jsonify(sample_info)"
   ]
  },
  {
   "cell_type": "code",
   "execution_count": null,
   "metadata": {},
   "outputs": [],
   "source": []
  },
  {
   "cell_type": "code",
   "execution_count": null,
   "metadata": {},
   "outputs": [],
   "source": []
  },
  {
   "cell_type": "code",
   "execution_count": null,
   "metadata": {},
   "outputs": [],
   "source": []
  },
  {
   "cell_type": "code",
   "execution_count": null,
   "metadata": {},
   "outputs": [],
   "source": []
  },
  {
   "cell_type": "code",
   "execution_count": null,
   "metadata": {},
   "outputs": [],
   "source": []
  },
  {
   "cell_type": "code",
   "execution_count": null,
   "metadata": {},
   "outputs": [],
   "source": []
  },
  {
   "cell_type": "code",
   "execution_count": null,
   "metadata": {},
   "outputs": [],
   "source": []
  },
  {
   "cell_type": "code",
   "execution_count": null,
   "metadata": {},
   "outputs": [],
   "source": []
  },
  {
   "cell_type": "code",
   "execution_count": null,
   "metadata": {},
   "outputs": [],
   "source": []
  },
  {
   "cell_type": "code",
   "execution_count": null,
   "metadata": {},
   "outputs": [],
   "source": []
  },
  {
   "cell_type": "code",
   "execution_count": null,
   "metadata": {},
   "outputs": [],
   "source": []
  },
  {
   "cell_type": "code",
   "execution_count": null,
   "metadata": {},
   "outputs": [],
   "source": []
  },
  {
   "cell_type": "code",
   "execution_count": null,
   "metadata": {},
   "outputs": [],
   "source": []
  }
 ],
 "metadata": {
  "kernelspec": {
   "display_name": "Python 3",
   "language": "python",
   "name": "python3"
  },
  "language_info": {
   "codemirror_mode": {
    "name": "ipython",
    "version": 3
   },
   "file_extension": ".py",
   "mimetype": "text/x-python",
   "name": "python",
   "nbconvert_exporter": "python",
   "pygments_lexer": "ipython3",
   "version": "3.6.8"
  }
 },
 "nbformat": 4,
 "nbformat_minor": 2
}
